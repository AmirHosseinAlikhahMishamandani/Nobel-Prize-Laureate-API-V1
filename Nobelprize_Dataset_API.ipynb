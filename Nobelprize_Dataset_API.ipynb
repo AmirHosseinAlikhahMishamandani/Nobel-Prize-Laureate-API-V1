{
  "nbformat": 4,
  "nbformat_minor": 0,
  "metadata": {
    "colab": {
      "provenance": [],
      "authorship_tag": "ABX9TyOawUAFzQXgnbcm8h4dtpFz",
      "include_colab_link": true
    },
    "kernelspec": {
      "name": "python3",
      "display_name": "Python 3"
    },
    "language_info": {
      "name": "python"
    }
  },
  "cells": [
    {
      "cell_type": "markdown",
      "metadata": {
        "id": "view-in-github",
        "colab_type": "text"
      },
      "source": [
        "<a href=\"https://colab.research.google.com/github/AmirHosseinAlikhahMishamandani/Nobel-Prize-Laureate-API-V1/blob/main/Nobelprize_Dataset_API.ipynb\" target=\"_parent\"><img src=\"https://colab.research.google.com/assets/colab-badge.svg\" alt=\"Open In Colab\"/></a>"
      ]
    },
    {
      "cell_type": "markdown",
      "source": [
        "# API V1: Nobel Prize\n",
        "\n",
        "This script interacts with the Nobel Prize API to fetch data about Nobel laureates in CSV format. Here's a breakdown of its functionality:\n",
        "\n",
        "1. **API Request**: It sends a GET request to the Nobel Prize API and fetches the data in CSV format.\n",
        "\n",
        "2. **Data Processing**: The CSV data is read using Python's `csv` module. The script specifically looks for columns that contain the first and last names of the laureates.\n",
        "\n",
        "3. **Name Concatenation**: For each laureate, the script concatenates their first and last names into a single full name.\n",
        "\n",
        "4. **File Writing**: After processing, the script adds a new column, 'Full Name', to the dataset. This column contains the concatenated names.\n",
        "\n",
        "5. **Saving the Modified Data**: Finally, the modified data is written to a new CSV file named `modified_nobel_prize_data.csv`. This file includes all the original data along with the newly added full names of the laureates.\n",
        "\n",
        "Note: The indices used for first and last names in the script (e.g., `row[2]`, `row[3]`) should be adjusted according to the actual structure of the CSV file provided by the API.\n"
      ],
      "metadata": {
        "id": "nBZnBSMkrVS3"
      }
    },
    {
      "cell_type": "code",
      "execution_count": 9,
      "metadata": {
        "colab": {
          "base_uri": "https://localhost:8080/"
        },
        "id": "HcKm6f4vpDh1",
        "outputId": "09912871-b6d0-4e33-f2b4-cc9d88f7a905"
      },
      "outputs": [
        {
          "output_type": "stream",
          "name": "stdout",
          "text": [
            "Modified data written to nobel_prize_data.csv\n"
          ]
        }
      ],
      "source": [
        "import requests\n",
        "import csv\n",
        "import io\n",
        "\n",
        "# URL of the API\n",
        "url = \"http://api.nobelprize.org/v1/prize.csv\"\n",
        "\n",
        "# Headers for the request\n",
        "headers = {\"accept\": \"application/json\"}\n",
        "\n",
        "try:\n",
        "    # Send the GET request\n",
        "    response = requests.get(url, headers=headers)\n",
        "    response.raise_for_status()  # Raises an HTTPError for unsuccessful status codes\n",
        "\n",
        "    # Check if the response has content\n",
        "    if not response.text.strip():\n",
        "        raise ValueError(\"Response content is empty\")\n",
        "\n",
        "    # Read the CSV data from the response\n",
        "    data = csv.reader(io.StringIO(response.text))\n",
        "\n",
        "    # Create a new CSV file to write the modified data\n",
        "    with open(\"nobel_prize_data.csv\", \"w\", newline='') as file:\n",
        "        writer = csv.writer(file)\n",
        "\n",
        "        first_name_index = -1\n",
        "        last_name_index = -1\n",
        "\n",
        "        for i, row in enumerate(data):\n",
        "            if i == 0:\n",
        "                # Find indices for first and last names\n",
        "                first_name_index = row.index('firstname') if 'firstname' in row else -1\n",
        "                last_name_index = row.index('surname') if 'surname' in row else -1\n",
        "\n",
        "                # Remove first name and last name from the header\n",
        "                if first_name_index >= 0 and last_name_index >= 0:\n",
        "                    del row[max(first_name_index, last_name_index)]  # Delete higher index first\n",
        "                    del row[min(first_name_index, last_name_index)]  # Then delete the lower index\n",
        "\n",
        "                # Add a new column for the full name\n",
        "                row.append('Full Name')\n",
        "\n",
        "                writer.writerow(row)\n",
        "            else:\n",
        "                full_name = ''\n",
        "                if first_name_index >= 0 and last_name_index >= 0:\n",
        "                    # Generate full name\n",
        "                    full_name = row[first_name_index] + ' ' + row[last_name_index]\n",
        "\n",
        "                    # Remove first name and last name from the row\n",
        "                    del row[max(first_name_index, last_name_index)]  # Delete higher index first\n",
        "                    del row[min(first_name_index, last_name_index)]  # Then delete the lower index\n",
        "\n",
        "                writer.writerow(row + [full_name])\n",
        "\n",
        "    print(\"Modified data written to nobel_prize_data.csv\")\n",
        "\n",
        "except requests.HTTPError as e:\n",
        "    print(f\"HTTP error occurred: {e}\")\n",
        "except ValueError as e:\n",
        "    print(f\"Value error: {e}\")\n",
        "except Exception as e:\n",
        "    print(f\"An error occurred: {e}\")\n"
      ]
    }
  ]
}