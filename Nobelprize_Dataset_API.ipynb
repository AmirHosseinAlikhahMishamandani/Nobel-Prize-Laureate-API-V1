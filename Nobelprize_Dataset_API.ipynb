{
  "nbformat": 4,
  "nbformat_minor": 0,
  "metadata": {
    "colab": {
      "provenance": [],
      "authorship_tag": "ABX9TyN2hdiJwssDY+iulPEUCT2/",
      "include_colab_link": true
    },
    "kernelspec": {
      "name": "python3",
      "display_name": "Python 3"
    },
    "language_info": {
      "name": "python"
    }
  },
  "cells": [
    {
      "cell_type": "markdown",
      "metadata": {
        "id": "view-in-github",
        "colab_type": "text"
      },
      "source": [
        "<a href=\"https://colab.research.google.com/github/AmirHosseinAlikhahMishamandani/Nobel-Prize-Laureate-API-V1/blob/main/Nobelprize_Dataset_API.ipynb\" target=\"_parent\"><img src=\"https://colab.research.google.com/assets/colab-badge.svg\" alt=\"Open In Colab\"/></a>"
      ]
    },
    {
      "cell_type": "markdown",
      "source": [
        "# API V1: Nobel Prize\n",
        "\n",
        "This script interacts with the Nobel Prize API to fetch data about Nobel laureates in CSV format. Here's a breakdown of its functionality:\n",
        "\n",
        "1. **API Request**: It sends a GET request to the Nobel Prize API and fetches the data in CSV format.\n",
        "\n",
        "2. **Data Processing**: The CSV data is read using Python's `csv` module. The script specifically looks for columns that contain the first and last names of the laureates.\n",
        "\n",
        "3. **Name Concatenation**: For each laureate, the script concatenates their first and last names into a single full name.\n",
        "\n",
        "4. **File Writing**: After processing, the script adds a new column, 'Full Name', to the dataset. This column contains the concatenated names.\n",
        "\n",
        "5. **Saving the Modified Data**: Finally, the modified data is written to a new CSV file named `modified_nobel_prize_data.csv`. This file includes all the original data along with the newly added full names of the laureates.\n",
        "\n",
        "Note: The indices used for first and last names in the script (e.g., `row[2]`, `row[3]`) should be adjusted according to the actual structure of the CSV file provided by the API.\n"
      ],
      "metadata": {
        "id": "nBZnBSMkrVS3"
      }
    },
    {
      "cell_type": "code",
      "execution_count": 5,
      "metadata": {
        "colab": {
          "base_uri": "https://localhost:8080/"
        },
        "id": "HcKm6f4vpDh1",
        "outputId": "39c0000b-f1bc-4670-a177-c69205961924"
      },
      "outputs": [
        {
          "output_type": "stream",
          "name": "stdout",
          "text": [
            "Modified data written to nobel_prize_data.csv\n"
          ]
        }
      ],
      "source": [
        "import requests\n",
        "import csv\n",
        "import io\n",
        "\n",
        "# URL of the API\n",
        "url = \"http://api.nobelprize.org/v1/prize.csv\"\n",
        "\n",
        "# Headers for the request\n",
        "headers = {\"accept\": \"application/json\"}\n",
        "\n",
        "# Send the GET request\n",
        "response = requests.get(url, headers=headers)\n",
        "\n",
        "# Check if the request was successful\n",
        "if response.status_code == 200:\n",
        "    # Read the CSV data from the response\n",
        "    data = csv.reader(io.StringIO(response.text))\n",
        "\n",
        "    # Create a new CSV file to write the modified data\n",
        "    with open(\"nobel_prize_data.csv\", \"w\", newline='') as file:\n",
        "        writer = csv.writer(file)\n",
        "\n",
        "        # Process each row in the original data\n",
        "        for i, row in enumerate(data):\n",
        "            # Assuming the first row is the header and does not contain laureate names\n",
        "            if i == 0:\n",
        "                # Add a new column for the full name\n",
        "                row.append('Full Name')\n",
        "                writer.writerow(row)\n",
        "            else:\n",
        "                # Concatenate first name and last name\n",
        "                # Modify the indices based on the actual structure of your CSV\n",
        "                full_name = row[2] + ' ' + row[3]  # Example indices for first name and last name\n",
        "                row.append(full_name)\n",
        "                writer.writerow(row)\n",
        "\n",
        "    print(\"Modified data written to nobel_prize_data.csv\")\n",
        "else:\n",
        "    print(f\"Failed to retrieve data: Status code {response.status_code}\")\n"
      ]
    }
  ]
}